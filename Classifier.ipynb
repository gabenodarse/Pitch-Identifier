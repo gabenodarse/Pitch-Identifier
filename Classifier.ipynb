{
 "cells": [
  {
   "cell_type": "code",
   "execution_count": 1,
   "metadata": {},
   "outputs": [],
   "source": [
    "import numpy as np\n",
    "import pandas as pd\n",
    "from sklearn.discriminant_analysis import LinearDiscriminantAnalysis\n",
    "from sklearn.naive_bayes import GaussianNB\n",
    "from sklearn.linear_model import LinearRegression\n",
    "from sklearn.ensemble import RandomForestClassifier"
   ]
  },
  {
   "cell_type": "code",
   "execution_count": 12,
   "metadata": {},
   "outputs": [
    {
     "data": {
      "text/html": [
       "<div>\n",
       "<style scoped>\n",
       "    .dataframe tbody tr th:only-of-type {\n",
       "        vertical-align: middle;\n",
       "    }\n",
       "\n",
       "    .dataframe tbody tr th {\n",
       "        vertical-align: top;\n",
       "    }\n",
       "\n",
       "    .dataframe thead th {\n",
       "        text-align: right;\n",
       "    }\n",
       "</style>\n",
       "<table border=\"1\" class=\"dataframe\">\n",
       "  <thead>\n",
       "    <tr style=\"text-align: right;\">\n",
       "      <th></th>\n",
       "      <th>time</th>\n",
       "      <th>note</th>\n",
       "      <th>num_smp</th>\n",
       "      <th>duration</th>\n",
       "      <th>num_ep</th>\n",
       "      <th>avg_mag_roc</th>\n",
       "      <th>avg_mag_acc</th>\n",
       "      <th>max_amp</th>\n",
       "      <th>min_amp</th>\n",
       "      <th>num_max</th>\n",
       "      <th>num_min</th>\n",
       "      <th>d_above</th>\n",
       "      <th>d_below</th>\n",
       "      <th>d_inc</th>\n",
       "      <th>d_dec</th>\n",
       "    </tr>\n",
       "  </thead>\n",
       "  <tbody>\n",
       "    <tr>\n",
       "      <th>0</th>\n",
       "      <td>0.019365</td>\n",
       "      <td>28</td>\n",
       "      <td>170</td>\n",
       "      <td>0.003832</td>\n",
       "      <td>1</td>\n",
       "      <td>214</td>\n",
       "      <td>27</td>\n",
       "      <td>6581</td>\n",
       "      <td>-4000</td>\n",
       "      <td>2</td>\n",
       "      <td>2</td>\n",
       "      <td>0.001655</td>\n",
       "      <td>0.002177</td>\n",
       "      <td>0.001859</td>\n",
       "      <td>0.001973</td>\n",
       "    </tr>\n",
       "    <tr>\n",
       "      <th>1</th>\n",
       "      <td>0.023175</td>\n",
       "      <td>28</td>\n",
       "      <td>168</td>\n",
       "      <td>0.003787</td>\n",
       "      <td>1</td>\n",
       "      <td>212</td>\n",
       "      <td>23</td>\n",
       "      <td>6731</td>\n",
       "      <td>-3981</td>\n",
       "      <td>2</td>\n",
       "      <td>2</td>\n",
       "      <td>0.001678</td>\n",
       "      <td>0.002109</td>\n",
       "      <td>0.001905</td>\n",
       "      <td>0.001882</td>\n",
       "    </tr>\n",
       "    <tr>\n",
       "      <th>2</th>\n",
       "      <td>0.026984</td>\n",
       "      <td>28</td>\n",
       "      <td>168</td>\n",
       "      <td>0.003787</td>\n",
       "      <td>1</td>\n",
       "      <td>214</td>\n",
       "      <td>24</td>\n",
       "      <td>7048</td>\n",
       "      <td>-4118</td>\n",
       "      <td>2</td>\n",
       "      <td>2</td>\n",
       "      <td>0.001655</td>\n",
       "      <td>0.002132</td>\n",
       "      <td>0.001791</td>\n",
       "      <td>0.001995</td>\n",
       "    </tr>\n",
       "    <tr>\n",
       "      <th>3</th>\n",
       "      <td>0.030816</td>\n",
       "      <td>28</td>\n",
       "      <td>168</td>\n",
       "      <td>0.003787</td>\n",
       "      <td>1</td>\n",
       "      <td>210</td>\n",
       "      <td>24</td>\n",
       "      <td>7063</td>\n",
       "      <td>-4264</td>\n",
       "      <td>2</td>\n",
       "      <td>2</td>\n",
       "      <td>0.001655</td>\n",
       "      <td>0.002132</td>\n",
       "      <td>0.001882</td>\n",
       "      <td>0.001905</td>\n",
       "    </tr>\n",
       "    <tr>\n",
       "      <th>4</th>\n",
       "      <td>0.034626</td>\n",
       "      <td>28</td>\n",
       "      <td>169</td>\n",
       "      <td>0.003810</td>\n",
       "      <td>1</td>\n",
       "      <td>214</td>\n",
       "      <td>22</td>\n",
       "      <td>7383</td>\n",
       "      <td>-4318</td>\n",
       "      <td>2</td>\n",
       "      <td>2</td>\n",
       "      <td>0.001655</td>\n",
       "      <td>0.002154</td>\n",
       "      <td>0.001927</td>\n",
       "      <td>0.001882</td>\n",
       "    </tr>\n",
       "  </tbody>\n",
       "</table>\n",
       "</div>"
      ],
      "text/plain": [
       "       time   note   num_smp   duration   num_ep   avg_mag_roc   avg_mag_acc  \\\n",
       "0  0.019365     28       170   0.003832        1           214            27   \n",
       "1  0.023175     28       168   0.003787        1           212            23   \n",
       "2  0.026984     28       168   0.003787        1           214            24   \n",
       "3  0.030816     28       168   0.003787        1           210            24   \n",
       "4  0.034626     28       169   0.003810        1           214            22   \n",
       "\n",
       "    max_amp   min_amp  num_max   num_min   d_above   d_below     d_inc  \\\n",
       "0      6581     -4000        2         2  0.001655  0.002177  0.001859   \n",
       "1      6731     -3981        2         2  0.001678  0.002109  0.001905   \n",
       "2      7048     -4118        2         2  0.001655  0.002132  0.001791   \n",
       "3      7063     -4264        2         2  0.001655  0.002132  0.001882   \n",
       "4      7383     -4318        2         2  0.001655  0.002154  0.001927   \n",
       "\n",
       "      d_dec  \n",
       "0  0.001973  \n",
       "1  0.001882  \n",
       "2  0.001995  \n",
       "3  0.001905  \n",
       "4  0.001882  "
      ]
     },
     "execution_count": 12,
     "metadata": {},
     "output_type": "execute_result"
    }
   ],
   "source": [
    "contours = pd.read_csv('contours.csv')\n",
    "contours.head()"
   ]
  },
  {
   "cell_type": "code",
   "execution_count": 72,
   "metadata": {},
   "outputs": [],
   "source": [
    "# pandas not trimming spaces automatically is a bit absurd, no?\n",
    "contour_predictors = contours.drop([\"time\", \" note\"], axis=1)\n",
    "contour_results = contours[\" note\"]\n",
    "\n",
    "train_len = len(contours) * 3 // 4\n",
    "train_predictors = contour_predictors[0:train_len]\n",
    "test_predictors = contour_predictors[train_len:]\n",
    "train_results = contour_results[0:train_len]\n",
    "test_results = contour_results[train_len:]"
   ]
  },
  {
   "cell_type": "markdown",
   "metadata": {},
   "source": [
    "## Random"
   ]
  },
  {
   "cell_type": "code",
   "execution_count": 5,
   "metadata": {},
   "outputs": [
    {
     "name": "stdout",
     "output_type": "stream",
     "text": [
      "0.041666666666666664\n"
     ]
    }
   ],
   "source": [
    "print( 1 / 24 )"
   ]
  },
  {
   "cell_type": "markdown",
   "metadata": {},
   "source": [
    "## LDA"
   ]
  },
  {
   "cell_type": "code",
   "execution_count": 52,
   "metadata": {},
   "outputs": [],
   "source": [
    "lda = LinearDiscriminantAnalysis()\n",
    "model = lda.fit(contour_predictors, contour_results)\n",
    "predictions = model.predict(contour_predictors)"
   ]
  },
  {
   "cell_type": "code",
   "execution_count": 53,
   "metadata": {
    "scrolled": true
   },
   "outputs": [
    {
     "name": "stdout",
     "output_type": "stream",
     "text": [
      "15304\n",
      "0.19580348004094167\n"
     ]
    }
   ],
   "source": [
    "num_right = 0\n",
    "for i in range( len(predictions) ):\n",
    "    if(predictions[i] == contours[\" note\"][i]):\n",
    "        num_right += 1\n",
    "        \n",
    "print(num_right)\n",
    "print(num_right / len(contours))\n",
    "\n",
    "num_right_lda = num_right"
   ]
  },
  {
   "cell_type": "code",
   "execution_count": 55,
   "metadata": {},
   "outputs": [],
   "source": [
    "lda = LinearDiscriminantAnalysis()\n",
    "model = lda.fit(train_predictors, train_results)\n",
    "predictions = model.predict(test_predictors)"
   ]
  },
  {
   "cell_type": "code",
   "execution_count": 56,
   "metadata": {
    "scrolled": true
   },
   "outputs": [
    {
     "name": "stdout",
     "output_type": "stream",
     "text": [
      "3294\n",
      "0.16857727737973388\n"
     ]
    }
   ],
   "source": [
    "num_right = 0\n",
    "for i in range( len(predictions) ):\n",
    "    if(predictions[i] == test_results.tolist()[i]):\n",
    "        num_right += 1\n",
    "        \n",
    "print(num_right)\n",
    "print(num_right / len(test_results))\n",
    "\n",
    "num_right_lda2 = num_right"
   ]
  },
  {
   "cell_type": "markdown",
   "metadata": {},
   "source": [
    "## GNB"
   ]
  },
  {
   "cell_type": "code",
   "execution_count": 61,
   "metadata": {},
   "outputs": [],
   "source": [
    "gnb = GaussianNB()\n",
    "model = gnb.fit(contour_predictors, contour_results)\n",
    "predictions = model.predict(contour_predictors)"
   ]
  },
  {
   "cell_type": "code",
   "execution_count": 62,
   "metadata": {},
   "outputs": [
    {
     "name": "stdout",
     "output_type": "stream",
     "text": [
      "8452\n",
      "0.10813715455475947\n"
     ]
    }
   ],
   "source": [
    "num_right = 0\n",
    "for i in range( len(predictions) ):\n",
    "    if(predictions[i] == contours[\" note\"][i]):\n",
    "        num_right += 1\n",
    "        \n",
    "print(num_right)\n",
    "print(num_right / len(contours))\n",
    "\n",
    "num_right_gnb = num_right"
   ]
  },
  {
   "cell_type": "code",
   "execution_count": 63,
   "metadata": {},
   "outputs": [],
   "source": [
    "gnb = GaussianNB()\n",
    "model = gnb.fit(train_predictors, train_results)\n",
    "predictions = model.predict(test_predictors)"
   ]
  },
  {
   "cell_type": "code",
   "execution_count": 64,
   "metadata": {
    "scrolled": true
   },
   "outputs": [
    {
     "name": "stdout",
     "output_type": "stream",
     "text": [
      "1725\n",
      "0.0882804503582395\n"
     ]
    }
   ],
   "source": [
    "num_right = 0\n",
    "for i in range( len(predictions) ):\n",
    "    if(predictions[i] == test_results.tolist()[i]):\n",
    "        num_right += 1\n",
    "        \n",
    "print(num_right)\n",
    "print(num_right / len(test_results))\n",
    "\n",
    "num_right_gnb2 = num_right"
   ]
  },
  {
   "cell_type": "markdown",
   "metadata": {},
   "source": [
    "## Random Forest"
   ]
  },
  {
   "cell_type": "code",
   "execution_count": 65,
   "metadata": {},
   "outputs": [],
   "source": [
    "forest = RandomForestClassifier()\n",
    "model = forest.fit(contour_predictors, contour_results)\n",
    "predictions = model.predict(contour_predictors)"
   ]
  },
  {
   "cell_type": "code",
   "execution_count": 66,
   "metadata": {},
   "outputs": [
    {
     "name": "stdout",
     "output_type": "stream",
     "text": [
      "78156\n",
      "0.9999488229273286\n"
     ]
    }
   ],
   "source": [
    "num_right = 0\n",
    "for i in range( len(predictions) ):\n",
    "    if(predictions[i] == contours[\" note\"][i]):\n",
    "        num_right += 1\n",
    "        \n",
    "print(num_right)\n",
    "print(num_right / len(contours))\n",
    "\n",
    "num_right_forest = num_right"
   ]
  },
  {
   "cell_type": "code",
   "execution_count": 67,
   "metadata": {},
   "outputs": [],
   "source": [
    "forest = RandomForestClassifier()\n",
    "model = forest.fit(train_predictors, train_results)\n",
    "predictions = model.predict(test_predictors)"
   ]
  },
  {
   "cell_type": "code",
   "execution_count": 68,
   "metadata": {
    "scrolled": true
   },
   "outputs": [
    {
     "name": "stdout",
     "output_type": "stream",
     "text": [
      "17342\n",
      "0.8875127942681679\n"
     ]
    }
   ],
   "source": [
    "num_right = 0\n",
    "for i in range( len(predictions) ):\n",
    "    if(predictions[i] == test_results.tolist()[i]):\n",
    "        num_right += 1\n",
    "        \n",
    "print(num_right)\n",
    "print(num_right / len(test_results))\n",
    "\n",
    "num_right_forest2 = num_right"
   ]
  },
  {
   "cell_type": "markdown",
   "metadata": {},
   "source": [
    "## Linear Regression"
   ]
  },
  {
   "cell_type": "code",
   "execution_count": 40,
   "metadata": {},
   "outputs": [],
   "source": [
    "lm = LinearRegression()\n",
    "lm.fit(contour_predictors, contour_results)\n",
    "\n",
    "coefficients = pd.DataFrame(data={\"predictor\": contour_predictors.columns, \\\n",
    "                                  \"coefficient\": lm.coef_})\n",
    "predictions = lm.predict(contour_predictors)\n",
    "predictions = predictions.round()\n",
    "\n",
    "comment = \"\"\"\n",
    "# coefficient, error, t values\n",
    "MSE = (sum((auto_predictee - predictions) ** 2)) / \\\n",
    "    (len(auto_predictors) - len(auto_predictors.columns) - 1)\n",
    "RSE = math.sqrt(MSE)\n",
    "\n",
    "variance = MSE * (np.linalg.inv(np.dot(auto_predictors.T,auto_predictors)).diagonal())\n",
    "standard_deviation = np.sqrt(variance)\n",
    "\n",
    "results = pd.DataFrame()\n",
    "results[\"predictors\"] = auto_predictors.columns\n",
    "results[\"coefficient\"] = coefficients[\"coefficient\"]\n",
    "results[\"variance\"] = variance\n",
    "results[\"std. error\"] = standard_deviation\n",
    "results[\"t-value\"] = coefficients[\"coefficient\"] / standard_deviation\n",
    "\n",
    "print(\"Mean squared error:\")\n",
    "print(MSE)\n",
    "print(results)\n",
    "\"\"\"\n"
   ]
  },
  {
   "cell_type": "code",
   "execution_count": 42,
   "metadata": {},
   "outputs": [
    {
     "name": "stdout",
     "output_type": "stream",
     "text": [
      "31512\n",
      "0.4031729785056295\n"
     ]
    }
   ],
   "source": [
    "num_right = 0\n",
    "for i in range( len(predictions) ):\n",
    "    if(predictions[i] == contour_results.to_list()[i]):\n",
    "        num_right += 1\n",
    "        \n",
    "print(num_right)\n",
    "print(num_right / len(contours))\n",
    "\n",
    "num_right_lg = num_right"
   ]
  },
  {
   "cell_type": "code",
   "execution_count": 76,
   "metadata": {},
   "outputs": [],
   "source": [
    "lm = LinearRegression()\n",
    "lm.fit(train_predictors, train_results)\n",
    "\n",
    "coefficients = pd.DataFrame(data={\"predictor\": test_predictors.columns, \\\n",
    "                                  \"coefficient\": lm.coef_})\n",
    "predictions = lm.predict(test_predictors)\n",
    "predictions = predictions.round()"
   ]
  },
  {
   "cell_type": "code",
   "execution_count": 77,
   "metadata": {
    "scrolled": true
   },
   "outputs": [
    {
     "name": "stdout",
     "output_type": "stream",
     "text": [
      "7100\n",
      "0.3633572159672467\n"
     ]
    }
   ],
   "source": [
    "num_right = 0\n",
    "for i in range( len(predictions) ):\n",
    "    if(predictions[i] == test_results.tolist()[i]):\n",
    "        num_right += 1\n",
    "        \n",
    "print(num_right)\n",
    "print(num_right / len(test_results))\n",
    "\n",
    "num_right_lg2 = num_right"
   ]
  },
  {
   "cell_type": "markdown",
   "metadata": {},
   "source": [
    "## Perceptron"
   ]
  },
  {
   "cell_type": "code",
   "execution_count": 36,
   "metadata": {
    "scrolled": false
   },
   "outputs": [],
   "source": [
    "def multiclass_perceptron(examples, targets, num_classes, num_iterations=1, previous_weights = None):\n",
    "    num_examples, num_features = examples.shape\n",
    "    weights = previous_weights\n",
    "    if weights is None:\n",
    "        weights = np.zeros(num_classes * num_features)\n",
    "        weights = weights.reshape(num_classes, num_features)\n",
    "    \n",
    "    for i in range(num_iterations):\n",
    "        for i in range(num_examples):\n",
    "            example = examples[i]\n",
    "            target = targets[i]\n",
    "            predicted = 0\n",
    "            predicted_score = np.dot(example, weights[0])\n",
    "            \n",
    "            # get the dot product of w and each F(X_t,y), and record the highest scoring\n",
    "            for j in range(1, num_classes):\n",
    "                score = np.dot(example, weights[j])\n",
    "                if(score > predicted_score):\n",
    "                    predicted = j\n",
    "                    predicted_score = score\n",
    "            \n",
    "            # if there was a mistake, update weights\n",
    "            if(predicted != target):\n",
    "                weights[target] = weights[target] + example \n",
    "                weights[predicted] = weights[predicted] - example\n",
    "    \n",
    "    return weights\n",
    "\n",
    "def test_multiclass(examples, targets, weights, num_classes):\n",
    "    num_examples = examples.shape[0]\n",
    "    num_correct = 0\n",
    "    \n",
    "    for i in range(num_examples):\n",
    "        example = examples[i]\n",
    "        target = targets[i]\n",
    "        \n",
    "        predicted = 0\n",
    "        predicted_score = np.dot(example, weights[0])\n",
    "\n",
    "        for j in range(1, num_classes):\n",
    "            score = np.dot(example, weights[j])\n",
    "            if(score > predicted_score):\n",
    "                predicted = j\n",
    "                predicted_score = score\n",
    "                    \n",
    "        if target == predicted:\n",
    "            num_correct += 1\n",
    "    \n",
    "    return num_correct"
   ]
  },
  {
   "cell_type": "code",
   "execution_count": 50,
   "metadata": {},
   "outputs": [
    {
     "name": "stdout",
     "output_type": "stream",
     "text": [
      "5649\n",
      "0.07227482088024564\n"
     ]
    }
   ],
   "source": [
    "perceptron_predictors = contour_predictors.to_numpy()\n",
    "perceptron_results = (contour_results - 28).to_numpy()\n",
    "num_classes = 24\n",
    "\n",
    "weights = multiclass_perceptron(perceptron_predictors, perceptron_results, num_classes, num_iterations=10)\n",
    "num_right = test_multiclass(perceptron_predictors, perceptron_results, weights, num_classes)\n",
    "\n",
    "print(num_right)\n",
    "print(num_right / len(contours))\n",
    "num_right_perceptron = num_right"
   ]
  },
  {
   "cell_type": "code",
   "execution_count": 49,
   "metadata": {},
   "outputs": [
    {
     "name": "stdout",
     "output_type": "stream",
     "text": [
      "195\n",
      "0.009979529170931423\n"
     ]
    }
   ],
   "source": [
    "perceptron_predictors = train_predictors.to_numpy()\n",
    "perceptron_results = (train_results - 28).to_numpy()\n",
    "perceptron_predictors2 = test_predictors.to_numpy()\n",
    "perceptron_results2 = (test_results - 28).to_numpy()\n",
    "num_classes = 24\n",
    "\n",
    "weights = multiclass_perceptron(perceptron_predictors, perceptron_results, num_classes, num_iterations=10)\n",
    "num_right = test_multiclass(perceptron_predictors2, perceptron_results2, weights, num_classes)\n",
    "\n",
    "print(num_right)\n",
    "print(num_right / len(test_predictors))\n",
    "num_right_perceptron2 = num_right"
   ]
  },
  {
   "cell_type": "code",
   "execution_count": 78,
   "metadata": {},
   "outputs": [
    {
     "name": "stdout",
     "output_type": "stream",
     "text": [
      "Perceptron\n",
      "0.07227482088024564\n",
      "0.009979529170931423\n",
      "GNB\n",
      "0.10813715455475947\n",
      "0.0882804503582395\n",
      "Forest\n",
      "0.9999488229273286\n",
      "0.8875127942681679\n",
      "LDA\n",
      "0.19580348004094167\n",
      "0.16857727737973388\n",
      "Linear Regression\n",
      "0.4031729785056295\n",
      "0.3633572159672467\n"
     ]
    }
   ],
   "source": [
    "print(\"Perceptron\")\n",
    "print(num_right_perceptron / len(contours))\n",
    "print(num_right_perceptron2 / len(test_predictors))\n",
    "print(\"GNB\")\n",
    "print(num_right_gnb / len(contours))\n",
    "print(num_right_gnb2 / len(test_predictors))\n",
    "print(\"Forest\")\n",
    "print(num_right_forest / len(contours))\n",
    "print(num_right_forest2 / len(test_predictors))\n",
    "print(\"LDA\")\n",
    "print(num_right_lda / len(contours))\n",
    "print(num_right_lda2 / len(test_predictors))\n",
    "print(\"Linear Regression\")\n",
    "print(num_right_lg / len(contours))\n",
    "print(num_right_lg2 / len(test_predictors))"
   ]
  },
  {
   "cell_type": "code",
   "execution_count": 94,
   "metadata": {},
   "outputs": [
    {
     "data": {
      "image/png": "[encoded data removed]",
      "text/plain": [
       "<Figure size 432x288 with 1 Axes>"
      ]
     },
     "metadata": {
      "needs_background": "light"
     },
     "output_type": "display_data"
    }
   ],
   "source": [
    "import matplotlib.pyplot as pyplot\n",
    "\n",
    "x = ['LDA', 'Linear\\nRegression', 'Perceptron', 'GNB', 'Random Forest']\n",
    "correct_predictions = np.array([num_right_lda, num_right_lg, num_right_perceptron, num_right_gnb, num_right_forest])\n",
    "correct_predictions = correct_predictions / len(contours)\n",
    "\n",
    "x_pos = [i for i, _ in enumerate(x)]\n",
    "\n",
    "pyplot.bar(x_pos, correct_predictions, color='darkcyan')\n",
    "pyplot.xlabel(\"Model\")\n",
    "pyplot.ylabel(\"Prediction Accuracy\")\n",
    "pyplot.title(\"Success of Models: Same Training and Testing Data\")\n",
    "pyplot.ylim([0, 1.0])\n",
    "\n",
    "pyplot.xticks(x_pos, x)\n",
    "\n",
    "pyplot.show()"
   ]
  },
  {
   "cell_type": "code",
   "execution_count": 95,
   "metadata": {},
   "outputs": [
    {
     "data": {
      "image/png": "[encoded data removed]",
      "text/plain": [
       "<Figure size 432x288 with 1 Axes>"
      ]
     },
     "metadata": {
      "needs_background": "light"
     },
     "output_type": "display_data"
    }
   ],
   "source": [
    "import matplotlib.pyplot as pyplot\n",
    "\n",
    "x = ['LDA', 'Linear\\nRegression', 'Perceptron', 'GNB', 'Random Forest']\n",
    "correct_predictions = np.array([num_right_lda2, num_right_lg2, num_right_perceptron2, num_right_gnb2, num_right_forest2])\n",
    "correct_predictions = correct_predictions / len(test_predictors)\n",
    "\n",
    "x_pos = [i for i, _ in enumerate(x)]\n",
    "\n",
    "pyplot.bar(x_pos, correct_predictions, color='darkcyan')\n",
    "pyplot.xlabel(\"Model\")\n",
    "pyplot.ylabel(\"Prediction Accuracy\")\n",
    "pyplot.title(\"Success of Models: Different Training and Testing Data\")\n",
    "pyplot.ylim([0, 1.0])\n",
    "\n",
    "pyplot.xticks(x_pos, x)\n",
    "\n",
    "pyplot.show()"
   ]
  },
  {
   "cell_type": "markdown",
   "metadata": {},
   "source": [
    "## LDA limited"
   ]
  },
  {
   "cell_type": "code",
   "execution_count": 7,
   "metadata": {},
   "outputs": [],
   "source": [
    "contour_predictors = contours[[\" duration\", \" num_smp\"]]\n",
    "contour_results = contours[\" note\"]\n",
    "\n",
    "lda = LinearDiscriminantAnalysis()\n",
    "model = lda.fit(contour_predictors, contour_results)\n",
    "predictions = model.predict(contour_predictors)"
   ]
  },
  {
   "cell_type": "code",
   "execution_count": 8,
   "metadata": {},
   "outputs": [
    {
     "name": "stdout",
     "output_type": "stream",
     "text": [
      "7631\n",
      "0.09763306038894576\n"
     ]
    }
   ],
   "source": [
    "num_right = 0\n",
    "for i in range( len(predictions) ):\n",
    "    if(predictions[i] == contours[\" note\"][i]):\n",
    "        num_right += 1\n",
    "        \n",
    "print(num_right)\n",
    "print(num_right / len(contours))"
   ]
  },
  {
   "cell_type": "markdown",
   "metadata": {},
   "source": [
    "## LDA less training"
   ]
  },
  {
   "cell_type": "code",
   "execution_count": 14,
   "metadata": {},
   "outputs": [
    {
     "name": "stdout",
     "output_type": "stream",
     "text": [
      "1465\n",
      "0.053189558145445306\n"
     ]
    }
   ],
   "source": [
    "contours_reduced = contours[contours[\"time\"] % 0.5 < 0.2]\n",
    "contours_reduced = contours_reduced[contours_reduced[\"time\"] % 0.5 > 0.02]\n",
    "\n",
    "contour_predictors = contours_reduced.drop([\"time\", \" note\"], axis=1)\n",
    "contour_results = contours_reduced[\" note\"]\n",
    "\n",
    "lda = LinearDiscriminantAnalysis()\n",
    "model = lda.fit(contour_predictors, contour_results)\n",
    "predictions = model.predict(contour_predictors)\n",
    "\n",
    "num_right = 0\n",
    "for i in range( len(predictions) ):\n",
    "    if(predictions[i] == contours[\" note\"][i]):\n",
    "        num_right += 1\n",
    "        \n",
    "print(num_right)\n",
    "print(num_right / len(contours_reduced))"
   ]
  },
  {
   "cell_type": "markdown",
   "metadata": {},
   "source": [
    "This suggests that the model is not correctly predicting at all"
   ]
  },
  {
   "cell_type": "code",
   "execution_count": 15,
   "metadata": {},
   "outputs": [
    {
     "name": "stdout",
     "output_type": "stream",
     "text": [
      "575\n",
      "0.0419340723453909\n"
     ]
    }
   ],
   "source": [
    "contours_reduced = contours[contours[\"time\"] % 1 < 0.2]\n",
    "contours_reduced = contours_reduced[contours_reduced[\"time\"] % 1 > 0.02]\n",
    "\n",
    "contour_predictors = contours_reduced.drop([\"time\", \" note\"], axis=1)\n",
    "contour_results = contours_reduced[\" note\"]\n",
    "\n",
    "lda = LinearDiscriminantAnalysis()\n",
    "model = lda.fit(contour_predictors, contour_results)\n",
    "predictions = model.predict(contour_predictors)\n",
    "\n",
    "num_right = 0\n",
    "for i in range( len(predictions) ):\n",
    "    if(predictions[i] == contours[\" note\"][i]):\n",
    "        num_right += 1\n",
    "        \n",
    "print(num_right)\n",
    "print(num_right / len(contours_reduced))"
   ]
  },
  {
   "cell_type": "code",
   "execution_count": 16,
   "metadata": {},
   "outputs": [
    {
     "name": "stdout",
     "output_type": "stream",
     "text": [
      "13\n",
      "0.022071307300509338\n"
     ]
    }
   ],
   "source": [
    "contours_reduced = contours[contours[\"time\"] % 1 < 0.03]\n",
    "contours_reduced = contours_reduced[contours_reduced[\"time\"] % 1 > 0.02]\n",
    "\n",
    "contour_predictors = contours_reduced.drop([\"time\", \" note\"], axis=1)\n",
    "contour_results = contours_reduced[\" note\"]\n",
    "\n",
    "lda = LinearDiscriminantAnalysis()\n",
    "model = lda.fit(contour_predictors, contour_results)\n",
    "predictions = model.predict(contour_predictors)\n",
    "\n",
    "num_right = 0\n",
    "for i in range( len(predictions) ):\n",
    "    if(predictions[i] == contours[\" note\"][i]):\n",
    "        num_right += 1\n",
    "        \n",
    "print(num_right)\n",
    "print(num_right / len(contours_reduced))"
   ]
  }
 ],
 "metadata": {
  "kernelspec": {
   "display_name": "Python 3",
   "language": "python",
   "name": "python3"
  },
  "language_info": {
   "codemirror_mode": {
    "name": "ipython",
    "version": 3
   },
   "file_extension": ".py",
   "mimetype": "text/x-python",
   "name": "python",
   "nbconvert_exporter": "python",
   "pygments_lexer": "ipython3",
   "version": "3.8.5"
  }
 },
 "nbformat": 4,
 "nbformat_minor": 4
}
